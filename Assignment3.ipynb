{
 "cells": [
  {
   "cell_type": "code",
   "execution_count": 1,
   "id": "135ee877-6e9b-47bf-a134-93b003bb17c9",
   "metadata": {},
   "outputs": [],
   "source": [
    "# ### `Problem 1` - Print the following pattern. Write a program to use for loop to print the following reverse number pattern.\n",
    "\n",
    "\n",
    "# 5 4 3 2 1 \n",
    "# 4 3 2 1 \n",
    "# 3 2 1 \n",
    "# 2 1 \n",
    "# 1"
   ]
  },
  {
   "cell_type": "code",
   "execution_count": 2,
   "id": "317ffb3a-da1e-467e-b900-d8f6901436cd",
   "metadata": {},
   "outputs": [
    {
     "name": "stdout",
     "output_type": "stream",
     "text": [
      "5 4 3 2 1 \n",
      "4 3 2 1 \n",
      "3 2 1 \n",
      "2 1 \n",
      "1 \n"
     ]
    }
   ],
   "source": [
    "n = 5 \n",
    "def pattern1(n):\n",
    "    for i in range (n,0,-1):\n",
    "        for j in range (i, 0, -1):\n",
    "            print(j,end=\" \" )\n",
    "        print()\n",
    "pattern1(n)"
   ]
  },
  {
   "cell_type": "code",
   "execution_count": 3,
   "id": "6e66c036-8c61-41a8-897d-c463405ce585",
   "metadata": {},
   "outputs": [],
   "source": [
    "# ### `Problem 2`: Print the following pattern.\n",
    "\n",
    "# ```bash\n",
    "# * \n",
    "# * * \n",
    "# * * * \n",
    "# * * * * \n",
    "# * * * * * \n",
    "# * * * * \n",
    "# * * * \n",
    "# * * \n",
    "# *\n",
    "# ```"
   ]
  },
  {
   "cell_type": "code",
   "execution_count": 4,
   "id": "7efeec4f-6107-46d9-acd2-ba1b5ec21d74",
   "metadata": {},
   "outputs": [
    {
     "name": "stdout",
     "output_type": "stream",
     "text": [
      "* \n",
      "* * \n",
      "* * * \n",
      "* * * * \n",
      "* * * * * \n",
      "* * * * \n",
      "* * * \n",
      "* * \n",
      "* \n"
     ]
    }
   ],
   "source": [
    "n = 5 \n",
    "def pattern2(n):\n",
    "    for i in range (n):\n",
    "        for j in range (i+1):\n",
    "            print(\"*\",end=\" \")\n",
    "        print()\n",
    "    for i in range (n-1, 0, -1):\n",
    "        for j in range (i):\n",
    "            print(\"*\",end=\" \" )\n",
    "        print()\n",
    "pattern2(n)"
   ]
  },
  {
   "cell_type": "code",
   "execution_count": 5,
   "id": "24c67105-c21b-4cca-b629-0703d7061c59",
   "metadata": {},
   "outputs": [],
   "source": [
    "# ### `Problem 3`:Write a program to pring the following pattern\n",
    "\n",
    "#         *\n",
    "#       * * *\n",
    "#     * * * * *\n",
    "#    * * * * * * *\n",
    "# * * * * * * * * *\n"
   ]
  },
  {
   "cell_type": "code",
   "execution_count": 6,
   "id": "84ef5e6a-25c6-4984-8b25-80466cdb6862",
   "metadata": {},
   "outputs": [
    {
     "name": "stdout",
     "output_type": "stream",
     "text": [
      "     * \n",
      "    * * \n",
      "   * * * \n",
      "  * * * * \n",
      " * * * * * \n"
     ]
    }
   ],
   "source": [
    "n = 5\n",
    "def pattern3(n):\n",
    "    for i in range(n):\n",
    "        print(\" \" *(n- i - 1),end=\" \")\n",
    "        print(\"* \" *(i+1))\n",
    "pattern3(n)\n"
   ]
  },
  {
   "cell_type": "code",
   "execution_count": 7,
   "id": "0a23632a-fc3c-4256-a774-f599971e8777",
   "metadata": {},
   "outputs": [],
   "source": [
    "# Problem 4:Write a program to print the following pattern\n",
    "# 1\n",
    "# 2 1\n",
    "# 3 2 1\n",
    "# 4 3 2 1\n",
    "# 5 4 3 2 1"
   ]
  },
  {
   "cell_type": "code",
   "execution_count": 8,
   "id": "e4010bd5-6d55-4d13-903d-50d79868b2b3",
   "metadata": {},
   "outputs": [
    {
     "name": "stdout",
     "output_type": "stream",
     "text": [
      "1 \n",
      "2 1 \n",
      "3 2 1 \n",
      "4 3 2 1 \n",
      "5 4 3 2 1 \n"
     ]
    }
   ],
   "source": [
    " n = 5\n",
    "def pattern4(n):\n",
    "    for j in range(1,n+1):\n",
    "        for i in range(j,0,-1):\n",
    "            print(i,end=\" \")\n",
    "        print()\n",
    "\n",
    "pattern4(n)"
   ]
  },
  {
   "cell_type": "code",
   "execution_count": 9,
   "id": "005c8935-934f-44cc-b2cb-a0d50efcba6c",
   "metadata": {},
   "outputs": [],
   "source": [
    "# Problem 5: Write a Python Program to Find the Sum of the Series till the nth term:\n",
    "# 1 + x^2/2 + x^3/3 + … x^n/n\n",
    "# n will be provided by the user"
   ]
  },
  {
   "cell_type": "code",
   "execution_count": 10,
   "id": "f713b96d-2e7e-4f8e-b822-a63a2e290602",
   "metadata": {},
   "outputs": [
    {
     "name": "stdin",
     "output_type": "stream",
     "text": [
      " Enter the number of terms:  12\n",
      " Enter the value of x:  6\n"
     ]
    },
    {
     "name": "stdout",
     "output_type": "stream",
     "text": [
      " The sum of the series is :  221806129.2\n"
     ]
    }
   ],
   "source": [
    "def series_sum(n,x):\n",
    "    sum1 = 1\n",
    "    for i in range(2,n+1):\n",
    "        sum1 += (x ** i)/ i\n",
    "    print(\" The sum of the series is : \",round(sum1,2))\n",
    "\n",
    "n = int(input(\" Enter the number of terms: \" ))\n",
    "x = float(input(\" Enter the value of x: \"))\n",
    "series_sum(n,x)"
   ]
  },
  {
   "cell_type": "code",
   "execution_count": 11,
   "id": "1afd798e-7038-474e-afa9-ac5e40ca63a5",
   "metadata": {},
   "outputs": [],
   "source": [
    "# Problem 6: The natural logarithm can be approximated by the following series.\n",
    "# temp.jpg\n",
    "# If x is input through the keyboard, write a program to calculate the sum of the first seven terms of this series"
   ]
  },
  {
   "cell_type": "code",
   "execution_count": 16,
   "id": "56024ccc-8fc4-4a63-a1b0-433cf787a1b6",
   "metadata": {},
   "outputs": [
    {
     "name": "stdin",
     "output_type": "stream",
     "text": [
      "Enter the value of x:  12\n"
     ]
    },
    {
     "name": "stdout",
     "output_type": "stream",
     "text": [
      "Approximation of ln(12.0) using 7 terms: 4666264.1142857149\n"
     ]
    }
   ],
   "source": [
    "num_term=7\n",
    "def natural_log_approximation(x):\n",
    "    num_term=7\n",
    "    result = 0\n",
    "    for k in range(1, num_term + 1):\n",
    "        term = (-1) ** (k + 1) * (x ** k) / k\n",
    "        result += term\n",
    "\n",
    "    return result\n",
    "\n",
    "# Input value of x (e.g., 1.9)\n",
    "x = float(input(\"Enter the value of x: \"))\n",
    "approximation = natural_log_approximation(x)\n",
    "\n",
    "print(f\"Approximation of ln({x}) using {num_term} terms: {approximation:.10f}\")\n"
   ]
  },
  {
   "cell_type": "code",
   "execution_count": 17,
   "id": "7e5779ab-e3f4-4f83-a48a-4b1918eff5bf",
   "metadata": {},
   "outputs": [],
   "source": [
    "# Problem 7 - Find the sum of the series upto n terms.\n",
    "# Write a program to calculate the sum of series up to n term. \n",
    "# For example, if n =5 the series will become 2 + 22 + 222 + 2222 + 22222 = 24690.\n",
    "# Take the user input and then calculate. And the output style should match which is given in the example."
   ]
  },
  {
   "cell_type": "code",
   "execution_count": 20,
   "id": "8b56d1db-a961-45bf-9a13-02ceecbf1283",
   "metadata": {},
   "outputs": [
    {
     "name": "stdin",
     "output_type": "stream",
     "text": [
      "Enter the value of n :  5\n",
      " Enter the term :  2\n"
     ]
    },
    {
     "name": "stdout",
     "output_type": "stream",
     "text": [
      "The sum of the series upto 5 term is : 24690\n"
     ]
    }
   ],
   "source": [
    "def calculate_series_sum(n):\n",
    "    term = int(input(\" Enter the term : \"))\n",
    "    total_sum = 0\n",
    "    for i in range(1, n+1):\n",
    "        total_sum += term\n",
    "        term = term*10+2\n",
    "    return total_sum\n",
    "try:\n",
    "    n = int(input(\"Enter the value of n : \"))\n",
    "    result = calculate_series_sum(n)\n",
    "    print(f\"The sum of the series upto {n} term is : {result}\")\n",
    "except ValueError:\n",
    "    print(\" Please enter a valid positive integer for n,\")\n",
    "    "
   ]
  },
  {
   "cell_type": "code",
   "execution_count": 21,
   "id": "b81c3cdb-691a-4e99-8dfc-36042b5761de",
   "metadata": {},
   "outputs": [],
   "source": [
    "# ###`Problem 8`: Write a program to print all the unique combinations of 1,2,3 and 4 \n",
    "\n",
    "# `Output`:\n",
    "# ```\n",
    "# 1 2 3 4\n",
    "# 1 2 4 3\n",
    "# 1 3 2 4\n",
    "# 1 3 4 2\n",
    "# 1 4 2 3\n",
    "# 1 4 3 2\n",
    "# 2 1 3 4\n",
    "# 2 1 4 3\n",
    "# 2 3 1 4\n",
    "# 2 3 4 1\n",
    "# 2 4 1 3\n",
    "# .\n",
    "# .\n",
    "# and so on\n",
    "# ```"
   ]
  },
  {
   "cell_type": "code",
   "execution_count": 30,
   "id": "55055184-7a11-4857-997c-e36c3e027dc8",
   "metadata": {},
   "outputs": [
    {
     "name": "stdout",
     "output_type": "stream",
     "text": [
      "1 2 3 4\n",
      "1 2 4 3\n",
      "1 3 2 4\n",
      "1 3 4 2\n",
      "1 4 2 3\n",
      "1 4 3 2\n",
      "2 1 3 4\n",
      "2 1 4 3\n",
      "2 3 1 4\n",
      "2 3 4 1\n",
      "2 4 1 3\n",
      "2 4 3 1\n",
      "3 1 2 4\n",
      "3 1 4 2\n",
      "3 2 1 4\n",
      "3 2 4 1\n",
      "3 4 1 2\n",
      "3 4 2 1\n",
      "4 1 2 3\n",
      "4 1 3 2\n",
      "4 2 1 3\n",
      "4 2 3 1\n",
      "4 3 1 2\n",
      "4 3 2 1\n"
     ]
    }
   ],
   "source": [
    "from itertools import permutations\n",
    "\n",
    "def unique_combinations():\n",
    "    keys = [1,2,3,4]\n",
    "    all_permutations= list(permutations(keys))\n",
    "    for perm in all_permutations:\n",
    "        print(*perm)\n",
    "\n",
    "unique_combinations()"
   ]
  },
  {
   "cell_type": "code",
   "execution_count": null,
   "id": "976f172a-7c46-46c0-bc8e-b97cfdbfd003",
   "metadata": {},
   "outputs": [],
   "source": [
    "# Problem 9: \n",
    "# Write a program that will take a decimal number as input and prints out the binary equivalent of the number"
   ]
  },
  {
   "cell_type": "code",
   "execution_count": 40,
   "id": "8e9a762d-7a2c-45b5-944e-58bb22393504",
   "metadata": {},
   "outputs": [
    {
     "name": "stdin",
     "output_type": "stream",
     "text": [
      "Enter a desimal number 12\n"
     ]
    },
    {
     "name": "stdout",
     "output_type": "stream",
     "text": [
      "The binary equivalant of 12 is 1100\n"
     ]
    }
   ],
   "source": [
    "user_input = int(input(\"Enter a desimal number\"))\n",
    "bin_equi = bin(user_input)[2:]\n",
    "print(f\"The binary equivalant of {user_input} is {bin_equi}\")\n",
    "                         \n",
    "                   "
   ]
  },
  {
   "cell_type": "code",
   "execution_count": 41,
   "id": "80013cff-4a7d-486d-9a38-da2f873bc018",
   "metadata": {},
   "outputs": [],
   "source": [
    "###`Problem 10`: Write a program that will take 2 numbers as input and prints the LCM and HCF of those 2 numbers"
   ]
  },
  {
   "cell_type": "code",
   "execution_count": 47,
   "id": "519018c3-af8d-4b4e-bc95-08a656886f33",
   "metadata": {},
   "outputs": [
    {
     "name": "stdin",
     "output_type": "stream",
     "text": [
      "Enter the first number:  48\n",
      "Enter the second number:  12\n"
     ]
    },
    {
     "name": "stdout",
     "output_type": "stream",
     "text": [
      " HCF of 48 and 12 is : 12\n",
      " LCM of 48 and 12 is : 48\n"
     ]
    }
   ],
   "source": [
    "def hcf(a,b):\n",
    "    while b:\n",
    "        a, b = b,a % b\n",
    "    return a\n",
    "\n",
    "def lcm(a,b):\n",
    "    return (a * b) // hcf(a,b)\n",
    "    \n",
    "\n",
    "try:\n",
    "    num1 = int(input(\"Enter the first number: \" ))\n",
    "    num2 = int(input(\"Enter the second number: \"))\n",
    "\n",
    "    hcf_result = hcf(num1,num2)\n",
    "    lcm_result = lcm(num1,num2)\n",
    "\n",
    "    print(f\" HCF of {num1} and {num2} is : {hcf_result}\")\n",
    "    print(f\" LCM of {num1} and {num2} is : {lcm_result}\")\n",
    "except ValueError:\n",
    "    print(\"Please enter valid integer number.\")\n"
   ]
  },
  {
   "cell_type": "code",
   "execution_count": 48,
   "id": "c28e07bd-a885-45ce-8419-efc4b927e71d",
   "metadata": {},
   "outputs": [],
   "source": [
    "# ### **Problem 11:** Create Short Form from initial character\n",
    "# Given a string create short form ofthe string from Initial character. Short form should be capitalised.\n",
    "\n",
    "# Example:\n",
    "\n",
    "# `Input:`\n",
    "# ```\n",
    "# Data science mentorship program\n",
    "# ```\n",
    "\n",
    "# `Output:`\n",
    "# ```\n",
    "# DSMP\n",
    "# ```"
   ]
  },
  {
   "cell_type": "code",
   "execution_count": 54,
   "id": "f214d13e-3dee-4ca5-bde5-ef79720c7152",
   "metadata": {},
   "outputs": [
    {
     "name": "stdin",
     "output_type": "stream",
     "text": [
      " Enter a String :  classroom of the elites\n"
     ]
    },
    {
     "name": "stdout",
     "output_type": "stream",
     "text": [
      "Classroom Of The Elites\n",
      "COTE\n"
     ]
    }
   ],
   "source": [
    "string1 = input(\" Enter a String : \")\n",
    "lst = string1.split()\n",
    "acronym = \"\".join(lst[0].upper() for lst in lst)\n",
    "print(string1.title())\n",
    "print(acronym)"
   ]
  },
  {
   "cell_type": "code",
   "execution_count": 55,
   "id": "3508c9bf-31e7-4cc2-a929-fe15cb65168b",
   "metadata": {},
   "outputs": [],
   "source": [
    "# ###`Problem 12`: Append second string in the middle of first string\n",
    "\n",
    "# `Input:`\n",
    "# ```\n",
    "# campusx\n",
    "# data\n",
    "# ```\n",
    "# `Output`:\n",
    "\n",
    "# ```\n",
    "# camdatapusx\n",
    "# ```"
   ]
  },
  {
   "cell_type": "code",
   "execution_count": 62,
   "id": "540be425-e777-436f-b2e9-d56a3543be64",
   "metadata": {},
   "outputs": [
    {
     "name": "stdin",
     "output_type": "stream",
     "text": [
      " Enter the first string wisdom\n",
      " Enter the second string vishwa\n"
     ]
    },
    {
     "name": "stdout",
     "output_type": "stream",
     "text": [
      "wisvishwadom\n"
     ]
    }
   ],
   "source": [
    "str1 = input(\" Enter the first string\")\n",
    "str2 = input(\" Enter the second string\")\n",
    "mid_index = len(str1) // 2\n",
    "appended_string = str1[:mid_index] + str2 +str1[mid_index:]\n",
    "print(appended_string)"
   ]
  },
  {
   "cell_type": "code",
   "execution_count": 63,
   "id": "20e12cc5-96b6-4424-8b99-1a7e5adb194f",
   "metadata": {},
   "outputs": [],
   "source": [
    "# ### ``Problem 13``:Given string contains a combination of the lower and upper case letters. \n",
    "# Write a program to arrange the characters of a string so that all lowercase letters should come first.\n",
    "# Given:\n",
    "# `str1 = PyNaTive`\n",
    "# Expected Output:\n",
    "# `yaivePNT`"
   ]
  },
  {
   "cell_type": "code",
   "execution_count": 1,
   "id": "87a148c7-134d-41ba-8dd7-8c847b64ce64",
   "metadata": {},
   "outputs": [
    {
     "name": "stdin",
     "output_type": "stream",
     "text": [
      "Enter the string : VishWisDom\n"
     ]
    },
    {
     "name": "stdout",
     "output_type": "stream",
     "text": [
      "hiimossVWD\n"
     ]
    }
   ],
   "source": [
    "def arr_low_fir(str):\n",
    "    lower = []\n",
    "    upper = []\n",
    "\n",
    "    for char in str:\n",
    "        if char.islower():\n",
    "            lower.append(char)\n",
    "        else:\n",
    "            upper.append(char)\n",
    "\n",
    "    lower.sort()\n",
    "    res = ''.join(lower+upper)\n",
    "    return res\n",
    "\n",
    "str = input(\"Enter the string :\")\n",
    "output = arr_low_fir(str)\n",
    "print(output)\n",
    "        \n"
   ]
  },
  {
   "cell_type": "markdown",
   "id": "82ffd55a-33b4-49b5-93da-5b21d3347797",
   "metadata": {},
   "source": [
    "### Problem 14:Take a alphanumeric string input and print the sum and average of the digits that appear in the string, ignoring all other characters."
   ]
  },
  {
   "cell_type": "code",
   "execution_count": 12,
   "id": "fa894942-a2b4-473e-93f8-198b85d589da",
   "metadata": {},
   "outputs": [
    {
     "name": "stdin",
     "output_type": "stream",
     "text": [
      "Enter an aplphanumeric string :  Wisdom12Vishwa18\n"
     ]
    },
    {
     "name": "stdout",
     "output_type": "stream",
     "text": [
      "Sum of digits: 12\n",
      "Average of digits: 3.00\n"
     ]
    }
   ],
   "source": [
    "def get_digits(str):\n",
    "    digits = [int(char) for char in str if char.isdigit()]\n",
    "    return digits\n",
    "\n",
    "def main():\n",
    "    input_string = input(\"Enter an aplphanumeric string : \")\n",
    "    digit_list = get_digits(input_string)\n",
    "\n",
    "    if not digit_list :\n",
    "        print(\"No digits found in the string. \")\n",
    "        return\n",
    "\n",
    "    total_sum = sum(digit_list)\n",
    "    average = total_sum/len(digit_list)\n",
    "\n",
    "    print(f\"Sum of digits: {total_sum}\")\n",
    "    print(f\"Average of digits: {average:.2f}\")\n",
    "\n",
    "if __name__==\"__main__\":\n",
    "    main()\n",
    "\n"
   ]
  },
  {
   "cell_type": "markdown",
   "id": "bb05d25d-d923-4e7c-91b1-3479401a1974",
   "metadata": {},
   "source": [
    "### Problem 15: Removal of all characters from a string except integers"
   ]
  },
  {
   "cell_type": "code",
   "execution_count": 1,
   "id": "5a31b353-9574-4e93-99a9-5f992c58cb78",
   "metadata": {},
   "outputs": [
    {
     "name": "stdout",
     "output_type": "stream",
     "text": [
      "Final string: 123abcjweiw\n"
     ]
    }
   ],
   "source": [
    "ini_string = \"123abcjw:, .@! eiw\"\n",
    "get_vals = list([val for val in ini_string if val.isalpha() or val.isnumeric()])\n",
    "result = \"\".join(get_vals)\n",
    "print(\"Final string:\", result)\n",
    "\n",
    "    "
   ]
  },
  {
   "cell_type": "markdown",
   "id": "edc58c19-6ff2-4c84-8201-e0e75aad9bec",
   "metadata": {},
   "source": [
    "### Problem 16: Check whether the string is Symmetrical.\n",
    "Statement: Given a string. the task is to check if the string is symmetrical or not. A string is said to be symmetrical if both the halves of the string are the same."
   ]
  },
  {
   "cell_type": "code",
   "execution_count": null,
   "id": "4ea1400d-9885-4510-ac00-965a17fb0f69",
   "metadata": {},
   "outputs": [],
   "source": []
  },
  {
   "cell_type": "code",
   "execution_count": 1,
   "id": "cfdf1106-3439-49ba-aea4-7b42b2e87365",
   "metadata": {},
   "outputs": [
    {
     "name": "stdin",
     "output_type": "stream",
     "text": [
      "Enter a sting to checck if it is symmetric otr not : lopol\n"
     ]
    },
    {
     "name": "stdout",
     "output_type": "stream",
     "text": [
      "'lopol' is symmetrical.\n"
     ]
    }
   ],
   "source": [
    "def is_symmetrical(s):\n",
    "    # Remove spaces and convert to lowercase for accurate comparison\n",
    "    s = s.replace(\" \", \"\").lower()\n",
    "    \n",
    "    # Compare the first half with the reversed second half\n",
    "    return s == s[::-1]\n",
    "\n",
    "# Example usage\n",
    "input_string = input(\"Enter a sting to checck if it is symmetric otr not :\")\n",
    "result = is_symmetrical(input_string)\n",
    "\n",
    "if result:\n",
    "    print(f\"'{input_string}' is symmetrical.\")\n",
    "else:\n",
    "    print(f\"'{input_string}' is not symmetrical.\")\n"
   ]
  },
  {
   "cell_type": "markdown",
   "id": "6b47db36-4d5f-41cc-a1ae-7c25d23057ed",
   "metadata": {},
   "source": [
    "### Problem 17: Reverse words in a given String\n",
    "Statement: We are given a string and we need to reverse words of a given string."
   ]
  },
  {
   "cell_type": "code",
   "execution_count": 4,
   "id": "4706c836-2ae8-40e3-b2d2-94197bb2ae3a",
   "metadata": {},
   "outputs": [
    {
     "name": "stdout",
     "output_type": "stream",
     "text": [
      "Reversed string: code practice quiz geeks\n"
     ]
    }
   ],
   "source": [
    "def reverse_words_stack(input_string):\n",
    "    stack = []\n",
    "    for word in input_string.split():\n",
    "        stack.append(word)\n",
    "    reversed_string = \" \".join(stack[::-1])\n",
    "    return reversed_string\n",
    "\n",
    "# Example usage\n",
    "input_str = input(\"Enter a string to reverse output:\")\n",
    "result = reverse_words_stack(input_str)\n",
    "print(\"Reversed string (using stack):\", result)\n"
   ]
  },
  {
   "cell_type": "markdown",
   "id": "6c6de934-25ed-42ff-8981-a84b68a935a7",
   "metadata": {},
   "source": [
    "### Problem 18: Find uncommon words from two Strings.\n",
    "Statement: Given two sentences as strings A and B. The task is to return a list of all uncommon words. A word is uncommon if it appears exactly once in any one of the sentences, and does not appear in the other sentence. Note: A sentence is a string of space-separated words. Each word consists only of lowercase letters."
   ]
  },
  {
   "cell_type": "code",
   "execution_count": 5,
   "id": "caeb3168-85a9-4712-bfcc-bd2e5a4fd3ec",
   "metadata": {},
   "outputs": [
    {
     "name": "stdout",
     "output_type": "stream",
     "text": [
      "['for', 'Knowing', 'is', 'being']\n"
     ]
    }
   ],
   "source": [
    "def UncommonWords(A, B):\n",
    "    count = {}\n",
    "    for word in A.split():\n",
    "        count[word] = count.get(word, 0) + 1\n",
    "    for word in B.split():\n",
    "        count[word] = count.get(word, 0) + 1\n",
    "    return [word for word in count if count[word] == 1]\n",
    "\n",
    "A = \"Wisdom for Genius\"\n",
    "B = \"Knowing Wisdom is being Genius\"\n",
    "print(UncommonWords(A, B))  # Output: ['Learning', 'from']\n"
   ]
  },
  {
   "cell_type": "markdown",
   "id": "82da9751-f894-4c17-9be2-8419a13cf27d",
   "metadata": {},
   "source": [
    "### Problem 19: Word location in String.\n",
    "Statement: Find a location of a word in a given sentence."
   ]
  },
  {
   "cell_type": "code",
   "execution_count": null,
   "id": "517c7b38-4301-4938-a741-f40da46ea097",
   "metadata": {},
   "outputs": [],
   "source": []
  }
 ],
 "metadata": {
  "kernelspec": {
   "display_name": "Python 3 (ipykernel)",
   "language": "python",
   "name": "python3"
  },
  "language_info": {
   "codemirror_mode": {
    "name": "ipython",
    "version": 3
   },
   "file_extension": ".py",
   "mimetype": "text/x-python",
   "name": "python",
   "nbconvert_exporter": "python",
   "pygments_lexer": "ipython3",
   "version": "3.12.4"
  }
 },
 "nbformat": 4,
 "nbformat_minor": 5
}
